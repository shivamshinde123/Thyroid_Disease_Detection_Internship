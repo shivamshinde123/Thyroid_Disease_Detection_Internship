{
 "cells": [
  {
   "cell_type": "code",
   "execution_count": 1,
   "id": "9c6f41ab-057c-43ec-8550-674d3ff3dded",
   "metadata": {},
   "outputs": [],
   "source": [
    "## Imports\n",
    "import numpy as np\n",
    "import pandas as pd\n",
    "import matplotlib.pyplot as plt\n",
    "import seaborn as sns"
   ]
  },
  {
   "cell_type": "code",
   "execution_count": 2,
   "id": "aee94fe3-0ae1-420f-adab-1347187f828c",
   "metadata": {},
   "outputs": [],
   "source": [
    "## ignoring unnecessary warnings\n",
    "import warnings\n",
    "warnings.filterwarnings('ignore')"
   ]
  },
  {
   "cell_type": "code",
   "execution_count": 3,
   "id": "86666eff-6647-47a7-ac79-c750be994389",
   "metadata": {},
   "outputs": [],
   "source": [
    "## reading the data\n",
    "data_url = \"https://drive.google.com/file/d/1xEM4cjfUHftVelPE-nInrY8Tbzr9yG-r/view?usp=sharing\"\n",
    "inital_url = \"https://drive.google.com/uc?id=\"\n",
    "\n",
    "data_url = inital_url + data_url.split('/')[-2]\n",
    "df = pd.read_csv(data_url)"
   ]
  },
  {
   "cell_type": "markdown",
   "id": "34f45519-a9d1-4ce2-8655-50acab8277db",
   "metadata": {},
   "source": [
    "**Feature information:**\n",
    "1. age - age of the patient (int)\n",
    "2. sex - sex patient identifies (str)\n",
    "3. on_thyroxine - whether patient is on thyroxine (bool)\n",
    "4. query on thyroxine - *whether patient is on thyroxine (bool)\n",
    "5. on antithyroid meds - whether patient is on antithyroid meds (bool)\n",
    "6. sick - whether patient is sick (bool)\n",
    "7. pregnant - whether patient is pregnant (bool)\n",
    "8. thyroid_surgery - whether patient has undergone thyroid surgery (bool)\n",
    "9. I131_treatment - whether patient is undergoing I131 treatment (bool)\n",
    "10. query_hypothyroid - whether patient believes they have hypothyroid (bool)\n",
    "11. query_hyperthyroid - whether patient believes they have hyperthyroid (bool)\n",
    "12. lithium - whether patient * lithium (bool)\n",
    "13. goitre - whether patient has goitre (bool)\n",
    "14. tumor - whether patient has tumor (bool)\n",
    "15. hypopituitary - whether patient * hyperpituitary gland (float)\n",
    "16. psych - whether patient * psych (bool)\n",
    "17. TSH_measured - whether TSH was measured in the blood (bool)\n",
    "17. TSH - TSH level in blood from lab work (float)\n",
    "18. T3_measured - whether T3 was measured in the blood (bool)\n",
    "19. T3 - T3 level in blood from lab work (float)\n",
    "20. TT4_measured - whether TT4 was measured in the blood (bool)\n",
    "21. TT4 - TT4 level in blood from lab work (float)\n",
    "22. T4U_measured - whether T4U was measured in the blood (bool)\n",
    "23. T4U - T4U level in blood from lab work (float)\n",
    "24. FTI_measured - whether FTI was measured in the blood (bool)\n",
    "25. FTI - FTI level in blood from lab work (float)\n",
    "26. TBG_measured - whether TBG was measured in the blood (bool)\n",
    "27. TBG - TBG level in blood from lab work (float)\n",
    "28. referral_source - (str)\n",
    "29. target - hyperthyroidism medical diagnosis (str)\n",
    "30. patient_id - unique id of the patient (str)"
   ]
  },
  {
   "cell_type": "markdown",
   "id": "6e05b24a-f77c-43b9-99ba-ddb491d9051c",
   "metadata": {},
   "source": [
    "**Target metadata**\n",
    "    The diagnosis consists of a string of letters indicating diagnosed conditions.\n",
    "    A diagnosis \"-\" indicates no condition requiring comment.  A diagnosis of the\n",
    "    form \"X|Y\" is interpreted as \"consistent with X, but more likely Y\".  The\n",
    "    conditions are divided into groups where each group corresponds to a class of\n",
    "    comments.\n",
    "\n",
    "    Letter  Diagnosis\n",
    "    ------  ---------\n",
    "\n",
    "    hyperthyroid conditions:\n",
    "\n",
    "    A   hyperthyroid\n",
    "    B   T3 toxic\n",
    "    C   toxic goitre\n",
    "    D   secondary toxic\n",
    "\n",
    "    hypothyroid conditions:\n",
    "\n",
    "    E   hypothyroid\n",
    "    F   primary hypothyroid\n",
    "    G   compensated hypothyroid\n",
    "    H   secondary hypothyroid\n",
    "\n",
    "    binding protein:\n",
    "\n",
    "    I   increased binding protein\n",
    "    J   decreased binding protein\n",
    "\n",
    "    general health:\n",
    "\n",
    "    K   concurrent non-thyroidal illness\n",
    "\n",
    "    replacement therapy:\n",
    "\n",
    "    L   consistent with replacement therapy\n",
    "    M   underreplaced\n",
    "    N   overreplaced\n",
    "\n",
    "    antithyroid treatment:\n",
    "\n",
    "    O   antithyroid drugs\n",
    "    P   I131 treatment\n",
    "    Q   surgery\n",
    "\n",
    "    miscellaneous:\n",
    "\n",
    "    R   discordant assay results\n",
    "    S   elevated TBG\n",
    "    T   elevated thyroid hormones"
   ]
  },
  {
   "cell_type": "code",
   "execution_count": 4,
   "id": "9c04955a-490d-4da0-aa0a-a39108a45f68",
   "metadata": {},
   "outputs": [
    {
     "data": {
      "text/html": [
       "<div>\n",
       "<style scoped>\n",
       "    .dataframe tbody tr th:only-of-type {\n",
       "        vertical-align: middle;\n",
       "    }\n",
       "\n",
       "    .dataframe tbody tr th {\n",
       "        vertical-align: top;\n",
       "    }\n",
       "\n",
       "    .dataframe thead th {\n",
       "        text-align: right;\n",
       "    }\n",
       "</style>\n",
       "<table border=\"1\" class=\"dataframe\">\n",
       "  <thead>\n",
       "    <tr style=\"text-align: right;\">\n",
       "      <th></th>\n",
       "      <th>age</th>\n",
       "      <th>sex</th>\n",
       "      <th>on_thyroxine</th>\n",
       "      <th>query_on_thyroxine</th>\n",
       "      <th>on_antithyroid_meds</th>\n",
       "      <th>sick</th>\n",
       "      <th>pregnant</th>\n",
       "      <th>thyroid_surgery</th>\n",
       "      <th>I131_treatment</th>\n",
       "      <th>query_hypothyroid</th>\n",
       "      <th>...</th>\n",
       "      <th>TT4</th>\n",
       "      <th>T4U_measured</th>\n",
       "      <th>T4U</th>\n",
       "      <th>FTI_measured</th>\n",
       "      <th>FTI</th>\n",
       "      <th>TBG_measured</th>\n",
       "      <th>TBG</th>\n",
       "      <th>referral_source</th>\n",
       "      <th>target</th>\n",
       "      <th>patient_id</th>\n",
       "    </tr>\n",
       "  </thead>\n",
       "  <tbody>\n",
       "    <tr>\n",
       "      <th>0</th>\n",
       "      <td>29</td>\n",
       "      <td>F</td>\n",
       "      <td>f</td>\n",
       "      <td>f</td>\n",
       "      <td>f</td>\n",
       "      <td>f</td>\n",
       "      <td>f</td>\n",
       "      <td>f</td>\n",
       "      <td>f</td>\n",
       "      <td>t</td>\n",
       "      <td>...</td>\n",
       "      <td>NaN</td>\n",
       "      <td>f</td>\n",
       "      <td>NaN</td>\n",
       "      <td>f</td>\n",
       "      <td>NaN</td>\n",
       "      <td>f</td>\n",
       "      <td>NaN</td>\n",
       "      <td>other</td>\n",
       "      <td>-</td>\n",
       "      <td>840801013</td>\n",
       "    </tr>\n",
       "    <tr>\n",
       "      <th>1</th>\n",
       "      <td>29</td>\n",
       "      <td>F</td>\n",
       "      <td>f</td>\n",
       "      <td>f</td>\n",
       "      <td>f</td>\n",
       "      <td>f</td>\n",
       "      <td>f</td>\n",
       "      <td>f</td>\n",
       "      <td>f</td>\n",
       "      <td>f</td>\n",
       "      <td>...</td>\n",
       "      <td>128.0</td>\n",
       "      <td>f</td>\n",
       "      <td>NaN</td>\n",
       "      <td>f</td>\n",
       "      <td>NaN</td>\n",
       "      <td>f</td>\n",
       "      <td>NaN</td>\n",
       "      <td>other</td>\n",
       "      <td>-</td>\n",
       "      <td>840801014</td>\n",
       "    </tr>\n",
       "    <tr>\n",
       "      <th>2</th>\n",
       "      <td>41</td>\n",
       "      <td>F</td>\n",
       "      <td>f</td>\n",
       "      <td>f</td>\n",
       "      <td>f</td>\n",
       "      <td>f</td>\n",
       "      <td>f</td>\n",
       "      <td>f</td>\n",
       "      <td>f</td>\n",
       "      <td>f</td>\n",
       "      <td>...</td>\n",
       "      <td>NaN</td>\n",
       "      <td>f</td>\n",
       "      <td>NaN</td>\n",
       "      <td>f</td>\n",
       "      <td>NaN</td>\n",
       "      <td>t</td>\n",
       "      <td>11.0</td>\n",
       "      <td>other</td>\n",
       "      <td>-</td>\n",
       "      <td>840801042</td>\n",
       "    </tr>\n",
       "    <tr>\n",
       "      <th>3</th>\n",
       "      <td>36</td>\n",
       "      <td>F</td>\n",
       "      <td>f</td>\n",
       "      <td>f</td>\n",
       "      <td>f</td>\n",
       "      <td>f</td>\n",
       "      <td>f</td>\n",
       "      <td>f</td>\n",
       "      <td>f</td>\n",
       "      <td>f</td>\n",
       "      <td>...</td>\n",
       "      <td>NaN</td>\n",
       "      <td>f</td>\n",
       "      <td>NaN</td>\n",
       "      <td>f</td>\n",
       "      <td>NaN</td>\n",
       "      <td>t</td>\n",
       "      <td>26.0</td>\n",
       "      <td>other</td>\n",
       "      <td>-</td>\n",
       "      <td>840803046</td>\n",
       "    </tr>\n",
       "    <tr>\n",
       "      <th>4</th>\n",
       "      <td>32</td>\n",
       "      <td>F</td>\n",
       "      <td>f</td>\n",
       "      <td>f</td>\n",
       "      <td>f</td>\n",
       "      <td>f</td>\n",
       "      <td>f</td>\n",
       "      <td>f</td>\n",
       "      <td>f</td>\n",
       "      <td>f</td>\n",
       "      <td>...</td>\n",
       "      <td>NaN</td>\n",
       "      <td>f</td>\n",
       "      <td>NaN</td>\n",
       "      <td>f</td>\n",
       "      <td>NaN</td>\n",
       "      <td>t</td>\n",
       "      <td>36.0</td>\n",
       "      <td>other</td>\n",
       "      <td>S</td>\n",
       "      <td>840803047</td>\n",
       "    </tr>\n",
       "  </tbody>\n",
       "</table>\n",
       "<p>5 rows × 31 columns</p>\n",
       "</div>"
      ],
      "text/plain": [
       "   age sex on_thyroxine query_on_thyroxine on_antithyroid_meds sick pregnant  \\\n",
       "0   29   F            f                  f                   f    f        f   \n",
       "1   29   F            f                  f                   f    f        f   \n",
       "2   41   F            f                  f                   f    f        f   \n",
       "3   36   F            f                  f                   f    f        f   \n",
       "4   32   F            f                  f                   f    f        f   \n",
       "\n",
       "  thyroid_surgery I131_treatment query_hypothyroid  ...    TT4 T4U_measured  \\\n",
       "0               f              f                 t  ...    NaN            f   \n",
       "1               f              f                 f  ...  128.0            f   \n",
       "2               f              f                 f  ...    NaN            f   \n",
       "3               f              f                 f  ...    NaN            f   \n",
       "4               f              f                 f  ...    NaN            f   \n",
       "\n",
       "  T4U FTI_measured FTI TBG_measured   TBG  referral_source target  patient_id  \n",
       "0 NaN            f NaN            f   NaN            other      -   840801013  \n",
       "1 NaN            f NaN            f   NaN            other      -   840801014  \n",
       "2 NaN            f NaN            t  11.0            other      -   840801042  \n",
       "3 NaN            f NaN            t  26.0            other      -   840803046  \n",
       "4 NaN            f NaN            t  36.0            other      S   840803047  \n",
       "\n",
       "[5 rows x 31 columns]"
      ]
     },
     "execution_count": 4,
     "metadata": {},
     "output_type": "execute_result"
    }
   ],
   "source": [
    "df.head()"
   ]
  },
  {
   "cell_type": "markdown",
   "id": "44d00522-1b14-4594-897c-5af022f5b977",
   "metadata": {},
   "source": [
    "**The feature named patient_id is not usefull for the model training. So, it needs to be removed.**"
   ]
  },
  {
   "cell_type": "code",
   "execution_count": 5,
   "id": "de2911bf-66a3-4748-974b-657f55876352",
   "metadata": {},
   "outputs": [],
   "source": [
    "df.drop(axis=1, columns=['patient_id', 'referral_source'],inplace=True)"
   ]
  },
  {
   "cell_type": "code",
   "execution_count": 6,
   "id": "baedcd95-e58a-48af-9a42-23553f982a82",
   "metadata": {},
   "outputs": [
    {
     "data": {
      "text/html": [
       "<div>\n",
       "<style scoped>\n",
       "    .dataframe tbody tr th:only-of-type {\n",
       "        vertical-align: middle;\n",
       "    }\n",
       "\n",
       "    .dataframe tbody tr th {\n",
       "        vertical-align: top;\n",
       "    }\n",
       "\n",
       "    .dataframe thead th {\n",
       "        text-align: right;\n",
       "    }\n",
       "</style>\n",
       "<table border=\"1\" class=\"dataframe\">\n",
       "  <thead>\n",
       "    <tr style=\"text-align: right;\">\n",
       "      <th></th>\n",
       "      <th>age</th>\n",
       "      <th>sex</th>\n",
       "      <th>on_thyroxine</th>\n",
       "      <th>query_on_thyroxine</th>\n",
       "      <th>on_antithyroid_meds</th>\n",
       "      <th>sick</th>\n",
       "      <th>pregnant</th>\n",
       "      <th>thyroid_surgery</th>\n",
       "      <th>I131_treatment</th>\n",
       "      <th>query_hypothyroid</th>\n",
       "      <th>...</th>\n",
       "      <th>T3</th>\n",
       "      <th>TT4_measured</th>\n",
       "      <th>TT4</th>\n",
       "      <th>T4U_measured</th>\n",
       "      <th>T4U</th>\n",
       "      <th>FTI_measured</th>\n",
       "      <th>FTI</th>\n",
       "      <th>TBG_measured</th>\n",
       "      <th>TBG</th>\n",
       "      <th>target</th>\n",
       "    </tr>\n",
       "  </thead>\n",
       "  <tbody>\n",
       "    <tr>\n",
       "      <th>0</th>\n",
       "      <td>29</td>\n",
       "      <td>F</td>\n",
       "      <td>f</td>\n",
       "      <td>f</td>\n",
       "      <td>f</td>\n",
       "      <td>f</td>\n",
       "      <td>f</td>\n",
       "      <td>f</td>\n",
       "      <td>f</td>\n",
       "      <td>t</td>\n",
       "      <td>...</td>\n",
       "      <td>NaN</td>\n",
       "      <td>f</td>\n",
       "      <td>NaN</td>\n",
       "      <td>f</td>\n",
       "      <td>NaN</td>\n",
       "      <td>f</td>\n",
       "      <td>NaN</td>\n",
       "      <td>f</td>\n",
       "      <td>NaN</td>\n",
       "      <td>-</td>\n",
       "    </tr>\n",
       "    <tr>\n",
       "      <th>1</th>\n",
       "      <td>29</td>\n",
       "      <td>F</td>\n",
       "      <td>f</td>\n",
       "      <td>f</td>\n",
       "      <td>f</td>\n",
       "      <td>f</td>\n",
       "      <td>f</td>\n",
       "      <td>f</td>\n",
       "      <td>f</td>\n",
       "      <td>f</td>\n",
       "      <td>...</td>\n",
       "      <td>1.9</td>\n",
       "      <td>t</td>\n",
       "      <td>128.0</td>\n",
       "      <td>f</td>\n",
       "      <td>NaN</td>\n",
       "      <td>f</td>\n",
       "      <td>NaN</td>\n",
       "      <td>f</td>\n",
       "      <td>NaN</td>\n",
       "      <td>-</td>\n",
       "    </tr>\n",
       "    <tr>\n",
       "      <th>2</th>\n",
       "      <td>41</td>\n",
       "      <td>F</td>\n",
       "      <td>f</td>\n",
       "      <td>f</td>\n",
       "      <td>f</td>\n",
       "      <td>f</td>\n",
       "      <td>f</td>\n",
       "      <td>f</td>\n",
       "      <td>f</td>\n",
       "      <td>f</td>\n",
       "      <td>...</td>\n",
       "      <td>NaN</td>\n",
       "      <td>f</td>\n",
       "      <td>NaN</td>\n",
       "      <td>f</td>\n",
       "      <td>NaN</td>\n",
       "      <td>f</td>\n",
       "      <td>NaN</td>\n",
       "      <td>t</td>\n",
       "      <td>11.0</td>\n",
       "      <td>-</td>\n",
       "    </tr>\n",
       "    <tr>\n",
       "      <th>3</th>\n",
       "      <td>36</td>\n",
       "      <td>F</td>\n",
       "      <td>f</td>\n",
       "      <td>f</td>\n",
       "      <td>f</td>\n",
       "      <td>f</td>\n",
       "      <td>f</td>\n",
       "      <td>f</td>\n",
       "      <td>f</td>\n",
       "      <td>f</td>\n",
       "      <td>...</td>\n",
       "      <td>NaN</td>\n",
       "      <td>f</td>\n",
       "      <td>NaN</td>\n",
       "      <td>f</td>\n",
       "      <td>NaN</td>\n",
       "      <td>f</td>\n",
       "      <td>NaN</td>\n",
       "      <td>t</td>\n",
       "      <td>26.0</td>\n",
       "      <td>-</td>\n",
       "    </tr>\n",
       "    <tr>\n",
       "      <th>4</th>\n",
       "      <td>32</td>\n",
       "      <td>F</td>\n",
       "      <td>f</td>\n",
       "      <td>f</td>\n",
       "      <td>f</td>\n",
       "      <td>f</td>\n",
       "      <td>f</td>\n",
       "      <td>f</td>\n",
       "      <td>f</td>\n",
       "      <td>f</td>\n",
       "      <td>...</td>\n",
       "      <td>NaN</td>\n",
       "      <td>f</td>\n",
       "      <td>NaN</td>\n",
       "      <td>f</td>\n",
       "      <td>NaN</td>\n",
       "      <td>f</td>\n",
       "      <td>NaN</td>\n",
       "      <td>t</td>\n",
       "      <td>36.0</td>\n",
       "      <td>S</td>\n",
       "    </tr>\n",
       "  </tbody>\n",
       "</table>\n",
       "<p>5 rows × 29 columns</p>\n",
       "</div>"
      ],
      "text/plain": [
       "   age sex on_thyroxine query_on_thyroxine on_antithyroid_meds sick pregnant  \\\n",
       "0   29   F            f                  f                   f    f        f   \n",
       "1   29   F            f                  f                   f    f        f   \n",
       "2   41   F            f                  f                   f    f        f   \n",
       "3   36   F            f                  f                   f    f        f   \n",
       "4   32   F            f                  f                   f    f        f   \n",
       "\n",
       "  thyroid_surgery I131_treatment query_hypothyroid  ...   T3 TT4_measured  \\\n",
       "0               f              f                 t  ...  NaN            f   \n",
       "1               f              f                 f  ...  1.9            t   \n",
       "2               f              f                 f  ...  NaN            f   \n",
       "3               f              f                 f  ...  NaN            f   \n",
       "4               f              f                 f  ...  NaN            f   \n",
       "\n",
       "     TT4 T4U_measured T4U FTI_measured FTI  TBG_measured   TBG  target  \n",
       "0    NaN            f NaN            f NaN             f   NaN       -  \n",
       "1  128.0            f NaN            f NaN             f   NaN       -  \n",
       "2    NaN            f NaN            f NaN             t  11.0       -  \n",
       "3    NaN            f NaN            f NaN             t  26.0       -  \n",
       "4    NaN            f NaN            f NaN             t  36.0       S  \n",
       "\n",
       "[5 rows x 29 columns]"
      ]
     },
     "execution_count": 6,
     "metadata": {},
     "output_type": "execute_result"
    }
   ],
   "source": [
    "df.head()"
   ]
  },
  {
   "cell_type": "code",
   "execution_count": 7,
   "id": "570f9caf-91a6-48e6-a790-5f71f1cd8ff6",
   "metadata": {},
   "outputs": [
    {
     "data": {
      "text/plain": [
       "Index(['age', 'sex', 'on_thyroxine', 'query_on_thyroxine',\n",
       "       'on_antithyroid_meds', 'sick', 'pregnant', 'thyroid_surgery',\n",
       "       'I131_treatment', 'query_hypothyroid', 'query_hyperthyroid', 'lithium',\n",
       "       'goitre', 'tumor', 'hypopituitary', 'psych', 'TSH_measured', 'TSH',\n",
       "       'T3_measured', 'T3', 'TT4_measured', 'TT4', 'T4U_measured', 'T4U',\n",
       "       'FTI_measured', 'FTI', 'TBG_measured', 'TBG', 'target'],\n",
       "      dtype='object')"
      ]
     },
     "execution_count": 7,
     "metadata": {},
     "output_type": "execute_result"
    }
   ],
   "source": [
    "## checking the number of columns\n",
    "df.columns"
   ]
  },
  {
   "cell_type": "code",
   "execution_count": 8,
   "id": "1dd461a7-0faa-413a-8200-a15149ead0d8",
   "metadata": {},
   "outputs": [
    {
     "name": "stdout",
     "output_type": "stream",
     "text": [
      "<class 'pandas.core.frame.DataFrame'>\n",
      "RangeIndex: 9172 entries, 0 to 9171\n",
      "Data columns (total 29 columns):\n",
      " #   Column               Non-Null Count  Dtype  \n",
      "---  ------               --------------  -----  \n",
      " 0   age                  9172 non-null   int64  \n",
      " 1   sex                  8865 non-null   object \n",
      " 2   on_thyroxine         9172 non-null   object \n",
      " 3   query_on_thyroxine   9172 non-null   object \n",
      " 4   on_antithyroid_meds  9172 non-null   object \n",
      " 5   sick                 9172 non-null   object \n",
      " 6   pregnant             9172 non-null   object \n",
      " 7   thyroid_surgery      9172 non-null   object \n",
      " 8   I131_treatment       9172 non-null   object \n",
      " 9   query_hypothyroid    9172 non-null   object \n",
      " 10  query_hyperthyroid   9172 non-null   object \n",
      " 11  lithium              9172 non-null   object \n",
      " 12  goitre               9172 non-null   object \n",
      " 13  tumor                9172 non-null   object \n",
      " 14  hypopituitary        9172 non-null   object \n",
      " 15  psych                9172 non-null   object \n",
      " 16  TSH_measured         9172 non-null   object \n",
      " 17  TSH                  8330 non-null   float64\n",
      " 18  T3_measured          9172 non-null   object \n",
      " 19  T3                   6568 non-null   float64\n",
      " 20  TT4_measured         9172 non-null   object \n",
      " 21  TT4                  8730 non-null   float64\n",
      " 22  T4U_measured         9172 non-null   object \n",
      " 23  T4U                  8363 non-null   float64\n",
      " 24  FTI_measured         9172 non-null   object \n",
      " 25  FTI                  8370 non-null   float64\n",
      " 26  TBG_measured         9172 non-null   object \n",
      " 27  TBG                  349 non-null    float64\n",
      " 28  target               9172 non-null   object \n",
      "dtypes: float64(6), int64(1), object(22)\n",
      "memory usage: 2.0+ MB\n"
     ]
    }
   ],
   "source": [
    "## checking the basic info about the dataframe\n",
    "df.info()"
   ]
  },
  {
   "cell_type": "code",
   "execution_count": 9,
   "id": "5ce0586b-b89c-459d-b7db-a835d8324228",
   "metadata": {},
   "outputs": [],
   "source": [
    "df.describe().loc[['min','max'],:].to_json(\"schema_in.json\")"
   ]
  },
  {
   "cell_type": "code",
   "execution_count": 10,
   "id": "be1fde1e-4097-41bd-8b1a-500488929642",
   "metadata": {},
   "outputs": [
    {
     "name": "stdout",
     "output_type": "stream",
     "text": [
      "Numerical columns: ['age', 'TSH', 'T3', 'TT4', 'T4U', 'FTI', 'TBG']\n",
      "\n",
      "Categorical columns: ['sex', 'on_thyroxine', 'query_on_thyroxine', 'on_antithyroid_meds', 'sick', 'pregnant', 'thyroid_surgery', 'I131_treatment', 'query_hypothyroid', 'query_hyperthyroid', 'lithium', 'goitre', 'tumor', 'hypopituitary', 'psych', 'TSH_measured', 'T3_measured', 'TT4_measured', 'T4U_measured', 'FTI_measured', 'TBG_measured', 'target']\n"
     ]
    }
   ],
   "source": [
    "## finding the names of numerical and categorical columns\n",
    "cat_cols = [feature for feature in df.columns if df[feature].dtypes == 'O']\n",
    "num_cols = [feature for feature in df.columns if feature not in cat_cols]\n",
    "\n",
    "print(f\"Numerical columns: {num_cols}\\n\")\n",
    "print(f\"Categorical columns: {cat_cols}\")"
   ]
  },
  {
   "cell_type": "code",
   "execution_count": 11,
   "id": "025d5d3a-d63d-4454-af1a-d71508882929",
   "metadata": {},
   "outputs": [
    {
     "name": "stdout",
     "output_type": "stream",
     "text": [
      "sex:\n",
      "Number of unique values: 2\n",
      "Unique values: ['F' 'M' nan]\n",
      "\n",
      "on_thyroxine:\n",
      "Number of unique values: 2\n",
      "Unique values: ['f' 't']\n",
      "\n",
      "query_on_thyroxine:\n",
      "Number of unique values: 2\n",
      "Unique values: ['f' 't']\n",
      "\n",
      "on_antithyroid_meds:\n",
      "Number of unique values: 2\n",
      "Unique values: ['f' 't']\n",
      "\n",
      "sick:\n",
      "Number of unique values: 2\n",
      "Unique values: ['f' 't']\n",
      "\n",
      "pregnant:\n",
      "Number of unique values: 2\n",
      "Unique values: ['f' 't']\n",
      "\n",
      "thyroid_surgery:\n",
      "Number of unique values: 2\n",
      "Unique values: ['f' 't']\n",
      "\n",
      "I131_treatment:\n",
      "Number of unique values: 2\n",
      "Unique values: ['f' 't']\n",
      "\n",
      "query_hypothyroid:\n",
      "Number of unique values: 2\n",
      "Unique values: ['t' 'f']\n",
      "\n",
      "query_hyperthyroid:\n",
      "Number of unique values: 2\n",
      "Unique values: ['f' 't']\n",
      "\n",
      "lithium:\n",
      "Number of unique values: 2\n",
      "Unique values: ['f' 't']\n",
      "\n",
      "goitre:\n",
      "Number of unique values: 2\n",
      "Unique values: ['f' 't']\n",
      "\n",
      "tumor:\n",
      "Number of unique values: 2\n",
      "Unique values: ['f' 't']\n",
      "\n",
      "hypopituitary:\n",
      "Number of unique values: 2\n",
      "Unique values: ['f' 't']\n",
      "\n",
      "psych:\n",
      "Number of unique values: 2\n",
      "Unique values: ['f' 't']\n",
      "\n",
      "TSH_measured:\n",
      "Number of unique values: 2\n",
      "Unique values: ['t' 'f']\n",
      "\n",
      "T3_measured:\n",
      "Number of unique values: 2\n",
      "Unique values: ['f' 't']\n",
      "\n",
      "TT4_measured:\n",
      "Number of unique values: 2\n",
      "Unique values: ['f' 't']\n",
      "\n",
      "T4U_measured:\n",
      "Number of unique values: 2\n",
      "Unique values: ['f' 't']\n",
      "\n",
      "FTI_measured:\n",
      "Number of unique values: 2\n",
      "Unique values: ['f' 't']\n",
      "\n",
      "TBG_measured:\n",
      "Number of unique values: 2\n",
      "Unique values: ['f' 't']\n",
      "\n",
      "target:\n",
      "Number of unique values: 32\n",
      "Unique values: ['-' 'S' 'F' 'AK' 'R' 'I' 'M' 'N' 'G' 'K' 'A' 'KJ' 'L' 'MK' 'Q' 'J' 'C|I'\n",
      " 'O' 'LJ' 'H|K' 'D' 'GK' 'MI' 'P' 'FK' 'B' 'GI' 'C' 'GKJ' 'OI' 'D|R' 'E']\n",
      "\n"
     ]
    }
   ],
   "source": [
    "## finding the unique values and their number for each categorical feature\n",
    "for feature in cat_cols:\n",
    "    print(f\"{feature}:\")\n",
    "    print(f\"Number of unique values: {df[feature].nunique()}\")\n",
    "    print(f\"Unique values: {df[feature].unique()}\\n\")"
   ]
  },
  {
   "cell_type": "markdown",
   "id": "b10622ff-94d8-4c52-ab6b-f2a2fe8bac5a",
   "metadata": {},
   "source": [
    "**Most of the categorical features have only 2 unique values namely f (false) and t (true)**"
   ]
  },
  {
   "cell_type": "code",
   "execution_count": 12,
   "id": "521b2eed-5463-4491-b0e8-a4562a245fd1",
   "metadata": {},
   "outputs": [
    {
     "data": {
      "text/html": [
       "<div>\n",
       "<style scoped>\n",
       "    .dataframe tbody tr th:only-of-type {\n",
       "        vertical-align: middle;\n",
       "    }\n",
       "\n",
       "    .dataframe tbody tr th {\n",
       "        vertical-align: top;\n",
       "    }\n",
       "\n",
       "    .dataframe thead th {\n",
       "        text-align: right;\n",
       "    }\n",
       "</style>\n",
       "<table border=\"1\" class=\"dataframe\">\n",
       "  <thead>\n",
       "    <tr style=\"text-align: right;\">\n",
       "      <th></th>\n",
       "      <th>min</th>\n",
       "      <th>max</th>\n",
       "    </tr>\n",
       "  </thead>\n",
       "  <tbody>\n",
       "    <tr>\n",
       "      <th>age</th>\n",
       "      <td>1.000</td>\n",
       "      <td>65526.00</td>\n",
       "    </tr>\n",
       "    <tr>\n",
       "      <th>TSH</th>\n",
       "      <td>0.005</td>\n",
       "      <td>530.00</td>\n",
       "    </tr>\n",
       "    <tr>\n",
       "      <th>T3</th>\n",
       "      <td>0.050</td>\n",
       "      <td>18.00</td>\n",
       "    </tr>\n",
       "    <tr>\n",
       "      <th>TT4</th>\n",
       "      <td>2.000</td>\n",
       "      <td>600.00</td>\n",
       "    </tr>\n",
       "    <tr>\n",
       "      <th>T4U</th>\n",
       "      <td>0.170</td>\n",
       "      <td>2.33</td>\n",
       "    </tr>\n",
       "    <tr>\n",
       "      <th>FTI</th>\n",
       "      <td>1.400</td>\n",
       "      <td>881.00</td>\n",
       "    </tr>\n",
       "    <tr>\n",
       "      <th>TBG</th>\n",
       "      <td>0.100</td>\n",
       "      <td>200.00</td>\n",
       "    </tr>\n",
       "  </tbody>\n",
       "</table>\n",
       "</div>"
      ],
      "text/plain": [
       "       min       max\n",
       "age  1.000  65526.00\n",
       "TSH  0.005    530.00\n",
       "T3   0.050     18.00\n",
       "TT4  2.000    600.00\n",
       "T4U  0.170      2.33\n",
       "FTI  1.400    881.00\n",
       "TBG  0.100    200.00"
      ]
     },
     "execution_count": 12,
     "metadata": {},
     "output_type": "execute_result"
    }
   ],
   "source": [
    "## checking the range of numerical columns\n",
    "df.describe().T[['min','max']]"
   ]
  },
  {
   "cell_type": "code",
   "execution_count": 13,
   "id": "2c093ba2-6257-41ec-a0d8-9ce173c054ad",
   "metadata": {},
   "outputs": [
    {
     "data": {
      "text/html": [
       "<div>\n",
       "<style scoped>\n",
       "    .dataframe tbody tr th:only-of-type {\n",
       "        vertical-align: middle;\n",
       "    }\n",
       "\n",
       "    .dataframe tbody tr th {\n",
       "        vertical-align: top;\n",
       "    }\n",
       "\n",
       "    .dataframe thead th {\n",
       "        text-align: right;\n",
       "    }\n",
       "</style>\n",
       "<table border=\"1\" class=\"dataframe\">\n",
       "  <thead>\n",
       "    <tr style=\"text-align: right;\">\n",
       "      <th></th>\n",
       "      <th>age</th>\n",
       "      <th>TSH</th>\n",
       "      <th>T3</th>\n",
       "      <th>TT4</th>\n",
       "      <th>T4U</th>\n",
       "      <th>FTI</th>\n",
       "      <th>TBG</th>\n",
       "    </tr>\n",
       "  </thead>\n",
       "  <tbody>\n",
       "    <tr>\n",
       "      <th>count</th>\n",
       "      <td>9172.000000</td>\n",
       "      <td>8330.000000</td>\n",
       "      <td>6568.000000</td>\n",
       "      <td>8730.000000</td>\n",
       "      <td>8363.000000</td>\n",
       "      <td>8370.000000</td>\n",
       "      <td>349.000000</td>\n",
       "    </tr>\n",
       "    <tr>\n",
       "      <th>mean</th>\n",
       "      <td>73.555822</td>\n",
       "      <td>5.218403</td>\n",
       "      <td>1.970629</td>\n",
       "      <td>108.700305</td>\n",
       "      <td>0.976056</td>\n",
       "      <td>113.640746</td>\n",
       "      <td>29.870057</td>\n",
       "    </tr>\n",
       "    <tr>\n",
       "      <th>std</th>\n",
       "      <td>1183.976718</td>\n",
       "      <td>24.184006</td>\n",
       "      <td>0.887579</td>\n",
       "      <td>37.522670</td>\n",
       "      <td>0.200360</td>\n",
       "      <td>41.551650</td>\n",
       "      <td>21.080504</td>\n",
       "    </tr>\n",
       "    <tr>\n",
       "      <th>min</th>\n",
       "      <td>1.000000</td>\n",
       "      <td>0.005000</td>\n",
       "      <td>0.050000</td>\n",
       "      <td>2.000000</td>\n",
       "      <td>0.170000</td>\n",
       "      <td>1.400000</td>\n",
       "      <td>0.100000</td>\n",
       "    </tr>\n",
       "    <tr>\n",
       "      <th>25%</th>\n",
       "      <td>37.000000</td>\n",
       "      <td>0.460000</td>\n",
       "      <td>1.500000</td>\n",
       "      <td>87.000000</td>\n",
       "      <td>0.860000</td>\n",
       "      <td>93.000000</td>\n",
       "      <td>21.000000</td>\n",
       "    </tr>\n",
       "    <tr>\n",
       "      <th>50%</th>\n",
       "      <td>55.000000</td>\n",
       "      <td>1.400000</td>\n",
       "      <td>1.900000</td>\n",
       "      <td>104.000000</td>\n",
       "      <td>0.960000</td>\n",
       "      <td>109.000000</td>\n",
       "      <td>26.000000</td>\n",
       "    </tr>\n",
       "    <tr>\n",
       "      <th>75%</th>\n",
       "      <td>68.000000</td>\n",
       "      <td>2.700000</td>\n",
       "      <td>2.300000</td>\n",
       "      <td>126.000000</td>\n",
       "      <td>1.065000</td>\n",
       "      <td>128.000000</td>\n",
       "      <td>31.000000</td>\n",
       "    </tr>\n",
       "    <tr>\n",
       "      <th>max</th>\n",
       "      <td>65526.000000</td>\n",
       "      <td>530.000000</td>\n",
       "      <td>18.000000</td>\n",
       "      <td>600.000000</td>\n",
       "      <td>2.330000</td>\n",
       "      <td>881.000000</td>\n",
       "      <td>200.000000</td>\n",
       "    </tr>\n",
       "  </tbody>\n",
       "</table>\n",
       "</div>"
      ],
      "text/plain": [
       "                age          TSH           T3          TT4          T4U  \\\n",
       "count   9172.000000  8330.000000  6568.000000  8730.000000  8363.000000   \n",
       "mean      73.555822     5.218403     1.970629   108.700305     0.976056   \n",
       "std     1183.976718    24.184006     0.887579    37.522670     0.200360   \n",
       "min        1.000000     0.005000     0.050000     2.000000     0.170000   \n",
       "25%       37.000000     0.460000     1.500000    87.000000     0.860000   \n",
       "50%       55.000000     1.400000     1.900000   104.000000     0.960000   \n",
       "75%       68.000000     2.700000     2.300000   126.000000     1.065000   \n",
       "max    65526.000000   530.000000    18.000000   600.000000     2.330000   \n",
       "\n",
       "               FTI         TBG  \n",
       "count  8370.000000  349.000000  \n",
       "mean    113.640746   29.870057  \n",
       "std      41.551650   21.080504  \n",
       "min       1.400000    0.100000  \n",
       "25%      93.000000   21.000000  \n",
       "50%     109.000000   26.000000  \n",
       "75%     128.000000   31.000000  \n",
       "max     881.000000  200.000000  "
      ]
     },
     "execution_count": 13,
     "metadata": {},
     "output_type": "execute_result"
    }
   ],
   "source": [
    "df.describe()"
   ]
  },
  {
   "cell_type": "code",
   "execution_count": 14,
   "id": "828bd9d9-a088-4e99-9b63-4b5c002627d7",
   "metadata": {},
   "outputs": [
    {
     "data": {
      "image/png": "[encoded data removed]",
      "text/plain": [
       "<Figure size 1200x1000 with 7 Axes>"
      ]
     },
     "metadata": {},
     "output_type": "display_data"
    }
   ],
   "source": [
    "sns.set_style('darkgrid')\n",
    "plt.figure(figsize=(12,10))\n",
    "for i in range(len(num_cols)):\n",
    "    plt.subplot(3,3,i+1)\n",
    "    sns.distplot(df[num_cols[i]])\n",
    "    plt.tight_layout()"
   ]
  },
  {
   "cell_type": "markdown",
   "id": "b44ac5bc-7ed1-4b6d-8521-45e55103da9a",
   "metadata": {},
   "source": [
    "**It seems age feature has some serious issue of outliers. We can ignore the outliers in other features since they could be the indicators of the disease**"
   ]
  },
  {
   "cell_type": "code",
   "execution_count": 15,
   "id": "d6661e4e-a59e-46e9-85b1-065c4d221e37",
   "metadata": {},
   "outputs": [
    {
     "data": {
      "text/plain": [
       "array([   29,    41,    36,    32,    60,    77,    28,    54,    42,\n",
       "          51,    37,    16,    43,    63,    40,    75,    56,    85,\n",
       "          71,    67,    55,    61,    46,    44,    82,    64,    70,\n",
       "          33,    59,    53,    52,    49,    35,    48,    27,    69,\n",
       "          76,    73,    68,    66,    30,    88,    38,    58,    21,\n",
       "          45,    83,    62,    25,    86,    72,    14,    15,    39,\n",
       "          26,    20,    80,    90,    23,    18,    13,    78,    24,\n",
       "          81,    92,    57,    74,     9,    47,    17,    11,    50,\n",
       "          34,     8,    79,    31,    65,    84,    12,    10,    19,\n",
       "          22,     1,     2,    97,     6,    89,    87,   455,    93,\n",
       "           7,    91,     5,    94,     4, 65511,    95, 65512,     3,\n",
       "       65526])"
      ]
     },
     "execution_count": 15,
     "metadata": {},
     "output_type": "execute_result"
    }
   ],
   "source": [
    "df['age'].unique()"
   ]
  },
  {
   "cell_type": "code",
   "execution_count": 16,
   "id": "63024487-5251-42df-963b-9f211f88ea38",
   "metadata": {},
   "outputs": [
    {
     "name": "stdout",
     "output_type": "stream",
     "text": [
      "Ages greater than 100:\n",
      "455\n",
      "65511\n",
      "65512\n",
      "65526\n"
     ]
    }
   ],
   "source": [
    "print(\"Ages greater than 100:\")\n",
    "for age in df['age'].unique():    \n",
    "    if age > 100:\n",
    "        print(age)"
   ]
  },
  {
   "cell_type": "markdown",
   "id": "6044f966-2f4f-49b6-8dc5-4e065b49911f",
   "metadata": {},
   "source": [
    "**We will replace the ages greater than 100 with NaN value and then fill them with the mean of remaining values**"
   ]
  },
  {
   "cell_type": "code",
   "execution_count": 17,
   "id": "3e93c964-1f6f-4b44-a164-3bb22e21a037",
   "metadata": {},
   "outputs": [],
   "source": [
    "df['age'] = np.where(df['age'] > 100, np.nan, df['age'])"
   ]
  },
  {
   "cell_type": "code",
   "execution_count": 18,
   "id": "eb1f4a6c-36bc-4916-b832-b0f47e4ec4c0",
   "metadata": {},
   "outputs": [
    {
     "data": {
      "text/plain": [
       "array([29., 41., 36., 32., 60., 77., 28., 54., 42., 51., 37., 16., 43.,\n",
       "       63., 40., 75., 56., 85., 71., 67., 55., 61., 46., 44., 82., 64.,\n",
       "       70., 33., 59., 53., 52., 49., 35., 48., 27., 69., 76., 73., 68.,\n",
       "       66., 30., 88., 38., 58., 21., 45., 83., 62., 25., 86., 72., 14.,\n",
       "       15., 39., 26., 20., 80., 90., 23., 18., 13., 78., 24., 81., 92.,\n",
       "       57., 74.,  9., 47., 17., 11., 50., 34.,  8., 79., 31., 65., 84.,\n",
       "       12., 10., 19., 22.,  1.,  2., 97.,  6., 89., 87., nan, 93.,  7.,\n",
       "       91.,  5., 94.,  4., 95.,  3.])"
      ]
     },
     "execution_count": 18,
     "metadata": {},
     "output_type": "execute_result"
    }
   ],
   "source": [
    "df['age'].unique()"
   ]
  },
  {
   "cell_type": "markdown",
   "id": "89480c46-eeda-4562-aada-3bbe22ee0ad3",
   "metadata": {},
   "source": [
    "**It seems now all the age values are within 100**"
   ]
  },
  {
   "cell_type": "code",
   "execution_count": 19,
   "id": "e69efb39-ad64-4a88-a652-ae24aac30f86",
   "metadata": {},
   "outputs": [
    {
     "data": {
      "text/plain": [
       "target\n",
       "-      6771\n",
       "K       436\n",
       "G       359\n",
       "I       346\n",
       "F       233\n",
       "R       196\n",
       "A       147\n",
       "L       115\n",
       "M       111\n",
       "N       110\n",
       "S        85\n",
       "GK       49\n",
       "AK       46\n",
       "J        30\n",
       "B        21\n",
       "MK       16\n",
       "O        14\n",
       "Q        14\n",
       "C|I      12\n",
       "KJ       11\n",
       "GI       10\n",
       "H|K       8\n",
       "D         8\n",
       "FK        6\n",
       "C         6\n",
       "P         5\n",
       "MI        2\n",
       "LJ        1\n",
       "GKJ       1\n",
       "OI        1\n",
       "D|R       1\n",
       "E         1\n",
       "Name: count, dtype: int64"
      ]
     },
     "execution_count": 19,
     "metadata": {},
     "output_type": "execute_result"
    }
   ],
   "source": [
    "## checking if the data is unbalanced or not\n",
    "df['target'].value_counts()"
   ]
  },
  {
   "cell_type": "markdown",
   "id": "48e54e30",
   "metadata": {},
   "source": [
    "**Here we can see that the target classes namely 'LJ', 'GKJ', 'OI', 'D|R', 'E' have only one data point. This will create a problem when we will\n",
    "try to split the data with sklearn's train_test_split with stratify = y. So, to avoid this issue for the split, we will duplicate this records 3 more time.**"
   ]
  },
  {
   "cell_type": "code",
   "execution_count": 20,
   "id": "e1e78363",
   "metadata": {},
   "outputs": [],
   "source": [
    "mask = (df['target'] == 'LJ') | (df['target'] == 'GKJ') | (df['target'] == 'OI') | (df['target'] == 'D|R') | (df['target'] == 'E') | (df['target'] == 'P') | (df['target'] == 'MI') | (df['target'] == 'LJ')\n",
    "df = pd.concat([df, df[mask], df[mask], df[mask], df[mask], df[mask], df[mask], df[mask], df[mask]])"
   ]
  },
  {
   "cell_type": "code",
   "execution_count": 21,
   "id": "9787d04f",
   "metadata": {},
   "outputs": [
    {
     "data": {
      "text/plain": [
       "target\n",
       "-      6771\n",
       "K       436\n",
       "G       359\n",
       "I       346\n",
       "F       233\n",
       "R       196\n",
       "A       147\n",
       "L       115\n",
       "M       111\n",
       "N       110\n",
       "S        85\n",
       "GK       49\n",
       "AK       46\n",
       "P        45\n",
       "J        30\n",
       "B        21\n",
       "MI       18\n",
       "MK       16\n",
       "O        14\n",
       "Q        14\n",
       "C|I      12\n",
       "KJ       11\n",
       "GI       10\n",
       "LJ        9\n",
       "D|R       9\n",
       "E         9\n",
       "OI        9\n",
       "GKJ       9\n",
       "D         8\n",
       "H|K       8\n",
       "C         6\n",
       "FK        6\n",
       "Name: count, dtype: int64"
      ]
     },
     "execution_count": 21,
     "metadata": {},
     "output_type": "execute_result"
    }
   ],
   "source": [
    "df['target'].value_counts()"
   ]
  },
  {
   "cell_type": "markdown",
   "id": "bfa70be0",
   "metadata": {},
   "source": [
    "**sampling of the data points may help. This is because some the target classes are severly under-represented.**"
   ]
  },
  {
   "cell_type": "code",
   "execution_count": 22,
   "id": "4cc3af10-faad-47f1-a5b7-4779f9e38799",
   "metadata": {},
   "outputs": [
    {
     "data": {
      "text/plain": [
       "age                       4\n",
       "sex                     307\n",
       "on_thyroxine              0\n",
       "query_on_thyroxine        0\n",
       "on_antithyroid_meds       0\n",
       "sick                      0\n",
       "pregnant                  0\n",
       "thyroid_surgery           0\n",
       "I131_treatment            0\n",
       "query_hypothyroid         0\n",
       "query_hyperthyroid        0\n",
       "lithium                   0\n",
       "goitre                    0\n",
       "tumor                     0\n",
       "hypopituitary             0\n",
       "psych                     0\n",
       "TSH_measured              0\n",
       "TSH                     858\n",
       "T3_measured               0\n",
       "T3                     2612\n",
       "TT4_measured              0\n",
       "TT4                     442\n",
       "T4U_measured              0\n",
       "T4U                     817\n",
       "FTI_measured              0\n",
       "FTI                     810\n",
       "TBG_measured              0\n",
       "TBG                    8919\n",
       "target                    0\n",
       "dtype: int64"
      ]
     },
     "execution_count": 22,
     "metadata": {},
     "output_type": "execute_result"
    }
   ],
   "source": [
    "## checking the presense of null values in the data\n",
    "df.isnull().sum()"
   ]
  },
  {
   "cell_type": "markdown",
   "id": "902c0ace-4439-486c-abbf-177555478d48",
   "metadata": {},
   "source": [
    "**The features with naming of the format name_measured has two unique values t and f, t if the measurement is done and f if the measurement is not done**\n",
    "**The features namely TSH, T3, TT4, T4U, FTI, TBG have null value whenever their corresponding measured columns has value f**\n",
    "**So here the approach will to remove the name_measured columns and filling the null values in the columns TSH, T3, TT4, T4U, FTI, TBG with mean of the values in that column**"
   ]
  },
  {
   "cell_type": "code",
   "execution_count": 23,
   "id": "bee52f17-4887-4806-a4c1-35723ea78d5e",
   "metadata": {},
   "outputs": [],
   "source": [
    "## removing unnecessary columns (removing feature named TBG because it has only 10% non-null values.)\n",
    "df.drop(columns=['TSH_measured','T3_measured','TT4_measured','T4U_measured','FTI_measured','TBG_measured','TBG','query_on_thyroxine','query_hypothyroid', 'query_hyperthyroid'],axis=1,inplace=True)"
   ]
  },
  {
   "cell_type": "code",
   "execution_count": 24,
   "id": "074df8ee-30b3-4f3d-89bb-4eff57da1bcc",
   "metadata": {},
   "outputs": [
    {
     "data": {
      "text/plain": [
       "Index(['age', 'sex', 'on_thyroxine', 'on_antithyroid_meds', 'sick', 'pregnant',\n",
       "       'thyroid_surgery', 'I131_treatment', 'lithium', 'goitre', 'tumor',\n",
       "       'hypopituitary', 'psych', 'TSH', 'T3', 'TT4', 'T4U', 'FTI', 'target'],\n",
       "      dtype='object')"
      ]
     },
     "execution_count": 24,
     "metadata": {},
     "output_type": "execute_result"
    }
   ],
   "source": [
    "df.columns"
   ]
  },
  {
   "cell_type": "code",
   "execution_count": 25,
   "id": "aa0d89f4-f76b-4f5d-872a-17240169f999",
   "metadata": {},
   "outputs": [
    {
     "data": {
      "text/plain": [
       "age                       4\n",
       "sex                     307\n",
       "on_thyroxine              0\n",
       "on_antithyroid_meds       0\n",
       "sick                      0\n",
       "pregnant                  0\n",
       "thyroid_surgery           0\n",
       "I131_treatment            0\n",
       "lithium                   0\n",
       "goitre                    0\n",
       "tumor                     0\n",
       "hypopituitary             0\n",
       "psych                     0\n",
       "TSH                     858\n",
       "T3                     2612\n",
       "TT4                     442\n",
       "T4U                     817\n",
       "FTI                     810\n",
       "target                    0\n",
       "dtype: int64"
      ]
     },
     "execution_count": 25,
     "metadata": {},
     "output_type": "execute_result"
    }
   ],
   "source": [
    "df.isnull().sum()"
   ]
  },
  {
   "cell_type": "code",
   "execution_count": 26,
   "id": "76b79eab-3e94-4080-9f5a-bb1847910f65",
   "metadata": {},
   "outputs": [],
   "source": [
    "for feature in ['TSH_measured','T3_measured','TT4_measured','T4U_measured','FTI_measured','TBG_measured', 'query_on_thyroxine','query_hypothyroid', 'query_hyperthyroid']: # Removing TBG because it has too many missing values\n",
    "    cat_cols.remove(feature)\n",
    "    \n",
    "num_cols.remove('TBG')"
   ]
  },
  {
   "cell_type": "code",
   "execution_count": 27,
   "id": "d2cf22aa-15dc-4aba-a292-4cd99d06e85d",
   "metadata": {},
   "outputs": [
    {
     "data": {
      "text/plain": [
       "['sex',\n",
       " 'on_thyroxine',\n",
       " 'on_antithyroid_meds',\n",
       " 'sick',\n",
       " 'pregnant',\n",
       " 'thyroid_surgery',\n",
       " 'I131_treatment',\n",
       " 'lithium',\n",
       " 'goitre',\n",
       " 'tumor',\n",
       " 'hypopituitary',\n",
       " 'psych',\n",
       " 'target']"
      ]
     },
     "execution_count": 27,
     "metadata": {},
     "output_type": "execute_result"
    }
   ],
   "source": [
    "cat_cols"
   ]
  },
  {
   "cell_type": "code",
   "execution_count": 28,
   "id": "5817758e",
   "metadata": {},
   "outputs": [
    {
     "data": {
      "text/plain": [
       "['age', 'TSH', 'T3', 'TT4', 'T4U', 'FTI']"
      ]
     },
     "execution_count": 28,
     "metadata": {},
     "output_type": "execute_result"
    }
   ],
   "source": [
    "num_cols"
   ]
  },
  {
   "cell_type": "code",
   "execution_count": 29,
   "id": "910308d8-958e-4f20-9c17-a71f4a2d9cdf",
   "metadata": {},
   "outputs": [],
   "source": [
    "cat_cols.remove('target')"
   ]
  },
  {
   "cell_type": "code",
   "execution_count": 30,
   "id": "57532f34-2d25-4802-92fa-1cd9fe11e805",
   "metadata": {},
   "outputs": [
    {
     "data": {
      "text/plain": [
       "['sex',\n",
       " 'on_thyroxine',\n",
       " 'on_antithyroid_meds',\n",
       " 'sick',\n",
       " 'pregnant',\n",
       " 'thyroid_surgery',\n",
       " 'I131_treatment',\n",
       " 'lithium',\n",
       " 'goitre',\n",
       " 'tumor',\n",
       " 'hypopituitary',\n",
       " 'psych']"
      ]
     },
     "execution_count": 30,
     "metadata": {},
     "output_type": "execute_result"
    }
   ],
   "source": [
    "cat_cols"
   ]
  },
  {
   "cell_type": "code",
   "execution_count": 31,
   "id": "df7ef9f4-5c57-4a22-a06f-abcaeadb7c29",
   "metadata": {},
   "outputs": [
    {
     "data": {
      "text/plain": [
       "array(['-', 'S', 'F', 'AK', 'R', 'I', 'M', 'N', 'G', 'K', 'A', 'KJ', 'L',\n",
       "       'MK', 'Q', 'J', 'C|I', 'O', 'LJ', 'H|K', 'D', 'GK', 'MI', 'P',\n",
       "       'FK', 'B', 'GI', 'C', 'GKJ', 'OI', 'D|R', 'E'], dtype=object)"
      ]
     },
     "execution_count": 31,
     "metadata": {},
     "output_type": "execute_result"
    }
   ],
   "source": [
    "df['target'].unique()"
   ]
  },
  {
   "cell_type": "markdown",
   "id": "2317d91d",
   "metadata": {},
   "source": [
    "**Since the feature with the value '-' is shown whenever the patient is not suffering from the thyroid disease, we will replace '-' value with the 'Negative'.**"
   ]
  },
  {
   "cell_type": "code",
   "execution_count": 32,
   "id": "38241e19-885c-4871-b020-fff78d93e0ee",
   "metadata": {},
   "outputs": [],
   "source": [
    "df['target'] = np.where(df['target'] == '-', 'Negative', df['target'])"
   ]
  },
  {
   "cell_type": "code",
   "execution_count": 33,
   "id": "5da8c726",
   "metadata": {},
   "outputs": [
    {
     "data": {
      "text/plain": [
       "array(['Negative', 'S', 'F', 'AK', 'R', 'I', 'M', 'N', 'G', 'K', 'A',\n",
       "       'KJ', 'L', 'MK', 'Q', 'J', 'C|I', 'O', 'LJ', 'H|K', 'D', 'GK',\n",
       "       'MI', 'P', 'FK', 'B', 'GI', 'C', 'GKJ', 'OI', 'D|R', 'E'],\n",
       "      dtype=object)"
      ]
     },
     "execution_count": 33,
     "metadata": {},
     "output_type": "execute_result"
    }
   ],
   "source": [
    "df['target'].unique()"
   ]
  },
  {
   "cell_type": "code",
   "execution_count": 34,
   "id": "24eded94-31d7-4c8b-9ecc-bc452bfdaff1",
   "metadata": {},
   "outputs": [],
   "source": [
    "# label_dict = dict(zip(df['target'].unique(),range(len(df['target'].unique()))))\n",
    "# label_dict"
   ]
  },
  {
   "cell_type": "code",
   "execution_count": 35,
   "id": "6ca52112-2384-4a29-ad2d-18893160b8e6",
   "metadata": {},
   "outputs": [],
   "source": [
    "# df['target'] = df['target'].map(label_dict)"
   ]
  },
  {
   "cell_type": "code",
   "execution_count": 36,
   "id": "f2b86d58-3025-4365-a59d-5ee9cb450763",
   "metadata": {},
   "outputs": [],
   "source": [
    "## Imports\n",
    "from sklearn.preprocessing import OrdinalEncoder, StandardScaler, LabelEncoder\n",
    "from sklearn.impute import SimpleImputer\n",
    "from sklearn.pipeline import Pipeline\n",
    "from sklearn.compose import ColumnTransformer\n",
    "\n",
    "# for making the dataset balanced\n",
    "from imblearn.over_sampling import SMOTE"
   ]
  },
  {
   "cell_type": "markdown",
   "id": "39600e57",
   "metadata": {},
   "source": [
    "**Check out the following online article for the information about the data sampling:\n",
    "https://machinelearningmastery.com/smote-oversampling-for-imbalanced-classification/**"
   ]
  },
  {
   "cell_type": "code",
   "execution_count": 37,
   "id": "02a7b0d5-da84-4b72-901c-249c8a78f6f7",
   "metadata": {},
   "outputs": [],
   "source": [
    "## 1. creating a pipeline to fill the null values and scale the values in categorical columns\n",
    "\n",
    "undersampling_strategy = {\n",
    "    'GK': 100,\n",
    "    'AK': 100,\n",
    "    'J': 100, \n",
    "    'B': 100,\n",
    "    'MK': 100,\n",
    "    'O': 100,\n",
    "    'Q': 100,\n",
    "    'C|I': 100,\n",
    "    'KJ': 100,\n",
    "    'GI': 100,\n",
    "    'H|K': 100,\n",
    "    'D': 100,\n",
    "    'FK': 100,\n",
    "    'C': 100,\n",
    "    'P': 100,\n",
    "    'MI': 100,\n",
    "    'LJ': 100,\n",
    "    'GKJ': 100,\n",
    "    'D|R': 100,\n",
    "    'E': 100,\n",
    "    'OI': 100\n",
    "}\n",
    "\n",
    "smote = SMOTE(sampling_strategy=undersampling_strategy, k_neighbors = 4)\n",
    "\n",
    "cat_pipe = Pipeline([\n",
    "    \n",
    "    ('cat_imputer1', SimpleImputer(missing_values=np.nan, strategy='most_frequent',add_indicator=True)),\n",
    "    ('cat_encoder', OrdinalEncoder(handle_unknown='use_encoded_value',unknown_value=np.nan)),\n",
    "    ('cat_imputer2', SimpleImputer(missing_values=np.nan, strategy='most_frequent')),\n",
    "])\n",
    "\n",
    "## 2. Creating numerical pipeline\n",
    "\n",
    "num_pipe = Pipeline([\n",
    "\n",
    "    ('num_imputer',SimpleImputer(missing_values=np.nan, strategy='median',add_indicator=True)),\n",
    "    ('std_scaler', StandardScaler())\n",
    "])"
   ]
  },
  {
   "cell_type": "code",
   "execution_count": 38,
   "id": "1b3a5345-e3f2-49b4-8b10-2f87d32dcef6",
   "metadata": {},
   "outputs": [],
   "source": [
    "## 3. Creating a combined pipeline\n",
    "\n",
    "remainder_processor = SimpleImputer(missing_values=np.nan, strategy='most_frequent',add_indicator=True)\n",
    "\n",
    "preprocess_pipe = ColumnTransformer([\n",
    "    ('num_pipeline',num_pipe,num_cols),\n",
    "    ('cat_pipeline',cat_pipe,cat_cols),\n",
    "], remainder= remainder_processor)"
   ]
  },
  {
   "cell_type": "code",
   "execution_count": 39,
   "id": "e684ec17",
   "metadata": {},
   "outputs": [],
   "source": [
    "## 6. splitting the data into independent and dependent features\n",
    "X = df.drop(columns=['target'],axis=1)\n",
    "y = df['target']\n",
    "\n",
    "## 7.splitting the data into train and test data\n",
    "from sklearn.model_selection import train_test_split\n",
    "\n",
    "X_train, X_test, y_train, y_test = train_test_split(X,y,test_size=0.2,random_state=195, stratify=y)"
   ]
  },
  {
   "cell_type": "code",
   "execution_count": 40,
   "id": "572be6f7",
   "metadata": {},
   "outputs": [],
   "source": [
    "X_train = preprocess_pipe.fit_transform(X_train)\n",
    "X_train, y_train = smote.fit_resample(X_train, y_train)\n",
    "\n",
    "le = LabelEncoder()\n",
    "y_train = le.fit_transform(y_train)"
   ]
  },
  {
   "cell_type": "code",
   "execution_count": 41,
   "id": "99bca269",
   "metadata": {},
   "outputs": [],
   "source": [
    "X_test = preprocess_pipe.transform(X_test)\n",
    "y_test = le.transform(y_test)"
   ]
  },
  {
   "cell_type": "code",
   "execution_count": 42,
   "id": "9d2460f1-3501-456e-826d-7e6188b19667",
   "metadata": {},
   "outputs": [],
   "source": [
    "## Imports\n",
    "from sklearn.linear_model import LogisticRegression\n",
    "from sklearn.neighbors import KNeighborsClassifier\n",
    "from sklearn.ensemble import RandomForestClassifier\n",
    "from xgboost import XGBClassifier\n",
    "\n",
    "from sklearn.model_selection import cross_val_score\n",
    "from sklearn.model_selection import StratifiedKFold\n",
    "from sklearn.model_selection import GridSearchCV"
   ]
  },
  {
   "cell_type": "code",
   "execution_count": 66,
   "id": "c90f17ed-71bc-4120-83d5-9b6ae2c7f5e5",
   "metadata": {},
   "outputs": [],
   "source": [
    "## 4. Creating pipelines for different machine learning algorithms\n",
    "\n",
    "log_reg = LogisticRegression(random_state=123,max_iter=2000)\n",
    "\n",
    "knn = KNeighborsClassifier()\n",
    "\n",
    "random_forest = RandomForestClassifier(random_state=456)\n",
    "\n",
    "xgboost = XGBClassifier()"
   ]
  },
  {
   "cell_type": "code",
   "execution_count": 67,
   "id": "761ee083-afe3-433d-9837-3584edac8ea6",
   "metadata": {},
   "outputs": [
    {
     "name": "stdout",
     "output_type": "stream",
     "text": [
      "The cross validation score for the logistic regression classifer based on accuracy score is 0.871 +/= 0.007 .\n",
      "The cross validation score for the KNeighbors classifier based on accuracy score is 0.87 +/= 0.009 .\n",
      "The cross validation score for the Random forest classifier based on accuracy score is 0.948 +/= 0.005 .\n",
      "The cross validation score for the xgboost classifier based on accuracy score is 0.946 +/= 0.006 .\n"
     ]
    }
   ],
   "source": [
    "## 8. Checking the cross validation score for each of the above algorithms\n",
    "classifiers = [log_reg, knn, random_forest, xgboost]\n",
    "classifier_names = ['logistic regression classifer', 'KNeighbors classifier', 'Random forest classifier', 'xgboost classifier']\n",
    "\n",
    "skf = StratifiedKFold(n_splits=10,shuffle=True,random_state=789)\n",
    "\n",
    "for i in range(len(classifiers)):\n",
    "    cv_score = cross_val_score(classifiers[i],X_train, y_train,scoring='accuracy', cv=skf)\n",
    "    print(f\"The cross validation score for the {classifier_names[i]} based on accuracy score is {np.round(cv_score.mean(),3)} +/= {np.round(cv_score.std(),3)} .\")"
   ]
  },
  {
   "cell_type": "markdown",
   "id": "a28abf5c",
   "metadata": {},
   "source": [
    "**Let's try tweaking the parameters of these algorithms to get best estimator for the job.**"
   ]
  },
  {
   "cell_type": "code",
   "execution_count": 69,
   "id": "bb17625d",
   "metadata": {},
   "outputs": [],
   "source": [
    "log_reg_params = {\n",
    "    'penalty': ['l1', 'l2', 'elasticnet'],\n",
    "    'C': np.arange(0,1,0.1),\n",
    "    'max_iter': np.arange(100, 1000, 50)\n",
    "}\n",
    "\n",
    "knn_params = {\n",
    "    'n_neighbors': np.arange(3,8,1)\n",
    "}\n",
    "\n",
    "rf_params = {\n",
    "    'n_estimators': np.arange(100, 500, 100),\n",
    "    'max_depth': np.arange(2, 6, 1),\n",
    "    'max_features': np.arange(3, X_train.shape[1], 1),\n",
    "}\n",
    "\n",
    "xgb_params = {\n",
    "    'n_estimators': np.arange(100, 500, 100),\n",
    "    'max_depth': np.arange(2, 6, 1),\n",
    "    'max_features': np.arange(3, X_train.shape[1], 1),\n",
    "}\n",
    "\n",
    "params = [log_reg_params, knn_params, rf_params, xgb_params]"
   ]
  },
  {
   "cell_type": "code",
   "execution_count": 71,
   "id": "4a721478",
   "metadata": {},
   "outputs": [
    {
     "name": "stdout",
     "output_type": "stream",
     "text": [
      "The best score and best parameters for the logistic regression classifer are 0.8660608738363772 and {'penalty': 'l2', 'max_iter': np.int64(400), 'C': np.float64(0.7000000000000001)}.\n",
      "The best score and best parameters for the KNeighbors classifier are 0.8715877443872312 and {'n_neighbors': np.int64(3)}.\n",
      "The best score and best parameters for the Random forest classifier are 0.8742970084817264 and {'n_estimators': np.int64(300), 'max_features': np.int64(16), 'max_depth': np.int64(5)}.\n",
      "The best score and best parameters for the xgboost classifier are 0.9457097834797874 and {'n_estimators': np.int64(400), 'max_features': np.int64(22), 'max_depth': np.int64(3)}.\n"
     ]
    }
   ],
   "source": [
    "from sklearn.model_selection import RandomizedSearchCV, GridSearchCV\n",
    "\n",
    "skf = StratifiedKFold(n_splits=10,shuffle=True,random_state=789)\n",
    "for i in range(len(classifiers)):\n",
    "    rscv = RandomizedSearchCV(classifiers[i], param_distributions=params[i], random_state=10, cv=skf, scoring='accuracy')\n",
    "    search = rscv.fit(X_train, y_train)\n",
    "    print(f\"The best score and best parameters for the {classifier_names[i]} are {search.best_score_} and {search.best_params_}.\") "
   ]
  },
  {
   "cell_type": "code",
   "execution_count": 75,
   "id": "eb8d58c9",
   "metadata": {},
   "outputs": [
    {
     "name": "stdout",
     "output_type": "stream",
     "text": [
      "The accuracy score of the mode logistic regression classifer on the test data is 0.846.\n",
      "The accuracy score of the mode KNeighbors classifier on the test data is 0.831.\n",
      "The accuracy score of the mode Random forest classifier on the test data is 0.887.\n",
      "The accuracy score of the mode xgboost classifier on the test data is 0.935.\n"
     ]
    }
   ],
   "source": [
    "log_reg = LogisticRegression(penalty='l2', max_iter=400, C=0.7)\n",
    "knnc = KNeighborsClassifier(n_neighbors=3)\n",
    "rfc = RandomForestClassifier(n_estimators=300, max_features=16, max_depth=5)\n",
    "xgbc = XGBClassifier(n_estimators=400, max_features=22, max_depth=3)\n",
    "\n",
    "from sklearn.metrics import accuracy_score\n",
    "\n",
    "classifiers = [log_reg, knnc, rfc, xgbc]\n",
    "## Since we have already addressed the problem of imbalance in the data, we can use accuracy for scoring here.\n",
    "for i in range(len(classifiers)):\n",
    "    model = classifiers[i].fit(X_train, y_train)\n",
    "    y_pred = model.predict(X_test)\n",
    "    print(f\"The accuracy score of the mode {classifier_names[i]} on the test data is {round(accuracy_score(y_pred=y_pred, y_true=y_test),3)}.\")"
   ]
  },
  {
   "cell_type": "code",
   "execution_count": null,
   "id": "9555de9d",
   "metadata": {},
   "outputs": [],
   "source": []
  }
 ],
 "metadata": {
  "kernelspec": {
   "display_name": "Python 3",
   "language": "python",
   "name": "python3"
  },
  "language_info": {
   "codemirror_mode": {
    "name": "ipython",
    "version": 3
   },
   "file_extension": ".py",
   "mimetype": "text/x-python",
   "name": "python",
   "nbconvert_exporter": "python",
   "pygments_lexer": "ipython3",
   "version": "3.12.5"
  },
  "toc-autonumbering": false,
  "vscode": {
   "interpreter": {
    "hash": "26de051ba29f2982a8de78e945f0abaf191376122a1563185a90213a26c5da77"
   }
  }
 },
 "nbformat": 4,
 "nbformat_minor": 5
}
